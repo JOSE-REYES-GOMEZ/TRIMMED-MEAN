{
 "cells": [
  {
   "cell_type": "markdown",
   "metadata": {},
   "source": [
    "# Trimmed mean"
   ]
  },
  {
   "cell_type": "markdown",
   "metadata": {},
   "source": [
    "## 3°E\n",
    "\n",
    "### Alvarez Vazquez Nick\n",
    "### Reyes Gomez Jose de Jesus\n"
   ]
  },
  {
   "cell_type": "code",
   "execution_count": null,
   "metadata": {},
   "outputs": [
    {
     "name": "stdout",
     "output_type": "stream",
     "text": [
      "\n",
      "Write 0 to end procces\n"
     ]
    }
   ],
   "source": [
    "i = 0\n",
    "n = 0\n",
    "per= 0\n",
    "X =[]\n",
    "sum_x=0\n",
    "\n",
    "while i < 1:\n",
    "    print(\"\\nWrite 0 to end procces\")\n",
    "    x = int(input(\"Introduce the set of data: \")) \n",
    "    X.append(x)\n",
    "    x = int(input(\"Introduce the set of data: \")) \n",
    "    X.append(x)\n",
    "    if x  != 0:\n",
    "        n +=2\n",
    "    \n",
    "    else:\n",
    "            \n",
    "        i +=1\n",
    "        \n",
    "u= X[0:-1]\n",
    "cs= sorted(u)\n",
    "\n",
    "\n",
    "print(f\"\\nAcomodo={cs}\")\n",
    "    \n",
    "print(\"Cantidad de porcentaje a introducir:\")\n",
    "\n",
    "z=int(input())\n",
    "nn=-z/10*2+n\n",
    "q=(z/100)\n",
    "j=round(nn*q)\n",
    "l1=cs[j:cs-j]\n",
    "\n",
    "print(f\"\\Trimmedd mean={l1}\")\n",
    "\n",
    "\n",
    "\n",
    "\n"
   ]
  }
 ],
 "metadata": {
  "kernelspec": {
   "display_name": "Python 3",
   "language": "python",
   "name": "python3"
  },
  "language_info": {
   "codemirror_mode": {
    "name": "ipython",
    "version": 3
   },
   "file_extension": ".py",
   "mimetype": "text/x-python",
   "name": "python",
   "nbconvert_exporter": "python",
   "pygments_lexer": "ipython3",
   "version": "3.7.3"
  }
 },
 "nbformat": 4,
 "nbformat_minor": 2
}
