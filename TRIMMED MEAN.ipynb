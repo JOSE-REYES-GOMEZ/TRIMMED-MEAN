{
 "cells": [
  {
   "cell_type": "markdown",
   "metadata": {},
   "source": [
    "# Trimmed mean"
   ]
  },
  {
   "cell_type": "markdown",
   "metadata": {},
   "source": [
    "## 3°E\n",
    "\n",
    "### Alvarez Vazquez Nick\n",
    "### Reyes Gomez Jose de Jesus\n"
   ]
  },
  {
   "cell_type": "code",
   "execution_count": 41,
   "metadata": {},
   "outputs": [
    {
     "name": "stdout",
     "output_type": "stream",
     "text": [
      "\n",
      "Write 0 to end procces\n",
      "Introduce the set of data: 2\n",
      "Introduce the set of data: 4\n",
      "\n",
      "Write 0 to end procces\n",
      "Introduce the set of data: 6\n",
      "Introduce the set of data: 7\n",
      "\n",
      "Write 0 to end procces\n",
      "Introduce the set of data: 9\n",
      "Introduce the set of data: 8\n",
      "\n",
      "Write 0 to end procces\n",
      "Introduce the set of data: 9\n",
      "Introduce the set of data: 0\n",
      "\n",
      "Acomodo=[0, 2, 4, 6, 7, 8, 9, 9]\n",
      "Cantidad de porcentaje a introducir:\n",
      "20\n"
     ]
    },
    {
     "ename": "TypeError",
     "evalue": "unsupported operand type(s) for -: 'list' and 'int'",
     "output_type": "error",
     "traceback": [
      "\u001b[1;31m---------------------------------------------------------------------------\u001b[0m",
      "\u001b[1;31mTypeError\u001b[0m                                 Traceback (most recent call last)",
      "\u001b[1;32m<ipython-input-41-b4cc8fbe0a34>\u001b[0m in \u001b[0;36m<module>\u001b[1;34m\u001b[0m\n\u001b[0;32m     30\u001b[0m \u001b[0mq\u001b[0m\u001b[1;33m=\u001b[0m\u001b[1;33m(\u001b[0m\u001b[0mz\u001b[0m\u001b[1;33m/\u001b[0m\u001b[1;36m100\u001b[0m\u001b[1;33m)\u001b[0m\u001b[1;33m\u001b[0m\u001b[1;33m\u001b[0m\u001b[0m\n\u001b[0;32m     31\u001b[0m \u001b[0mj\u001b[0m\u001b[1;33m=\u001b[0m\u001b[0mround\u001b[0m\u001b[1;33m(\u001b[0m\u001b[0mnn\u001b[0m\u001b[1;33m*\u001b[0m\u001b[0mq\u001b[0m\u001b[1;33m)\u001b[0m\u001b[1;33m\u001b[0m\u001b[1;33m\u001b[0m\u001b[0m\n\u001b[1;32m---> 32\u001b[1;33m \u001b[0ml1\u001b[0m\u001b[1;33m=\u001b[0m\u001b[0mX\u001b[0m\u001b[1;33m[\u001b[0m\u001b[0mj\u001b[0m\u001b[1;33m:\u001b[0m\u001b[0mX\u001b[0m\u001b[1;33m-\u001b[0m\u001b[0mj\u001b[0m\u001b[1;33m]\u001b[0m\u001b[1;33m\u001b[0m\u001b[1;33m\u001b[0m\u001b[0m\n\u001b[0m\u001b[0;32m     33\u001b[0m \u001b[1;33m\u001b[0m\u001b[0m\n\u001b[0;32m     34\u001b[0m \u001b[0mprint\u001b[0m\u001b[1;33m(\u001b[0m\u001b[1;34mf\"\\Trimmedd mean={l1}\"\u001b[0m\u001b[1;33m)\u001b[0m\u001b[1;33m\u001b[0m\u001b[1;33m\u001b[0m\u001b[0m\n",
      "\u001b[1;31mTypeError\u001b[0m: unsupported operand type(s) for -: 'list' and 'int'"
     ]
    }
   ],
   "source": [
    "i = 0\n",
    "n = 0\n",
    "per= 0\n",
    "X =[]\n",
    "sum_x=0\n",
    "\n",
    "while i < 1:\n",
    "    print(\"\\nWrite 0 to end procces\")\n",
    "    x = int(input(\"Introduce the set of data: \")) \n",
    "    X.append(x)\n",
    "    x = int(input(\"Introduce the set of data: \")) \n",
    "    X.append(x)\n",
    "    if x  != 0:\n",
    "        n +=2\n",
    "    \n",
    "    else:\n",
    "            \n",
    "        i +=1\n",
    "        \n",
    "u= X[0:-1]\n",
    "cs= sorted(u)\n",
    "\n",
    "\n",
    "print(f\"\\nAcomodo={cs}\")\n",
    "    \n",
    "print(\"Cantidad de porcentaje a introducir:\")\n",
    "\n",
    "z=int(input())\n",
    "nn=-z/10*2+n\n",
    "q=(z/100)\n",
    "j=round(nn*q)\n",
    "l1=cs[j:cs-j]\n",
    "\n",
    "print(f\"\\Trimmedd mean={l1}\")\n",
    "\n",
    "\n",
    "\n",
    "\n"
   ]
  },
  {
   "cell_type": "code",
   "execution_count": null,
   "metadata": {},
   "outputs": [],
   "source": []
  },
  {
   "cell_type": "code",
   "execution_count": null,
   "metadata": {},
   "outputs": [],
   "source": []
  }
 ],
 "metadata": {
  "kernelspec": {
   "display_name": "Python 3",
   "language": "python",
   "name": "python3"
  },
  "language_info": {
   "codemirror_mode": {
    "name": "ipython",
    "version": 3
   },
   "file_extension": ".py",
   "mimetype": "text/x-python",
   "name": "python",
   "nbconvert_exporter": "python",
   "pygments_lexer": "ipython3",
   "version": "3.7.3"
  }
 },
 "nbformat": 4,
 "nbformat_minor": 2
}
